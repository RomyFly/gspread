{
 "cells": [
  {
   "cell_type": "code",
   "execution_count": 1,
   "id": "ce6cac6e-71f2-4535-b261-b7cf3d5c37c0",
   "metadata": {
    "tags": []
   },
   "outputs": [],
   "source": [
    "#importation of libraries\n",
    "import gspread\n",
    "import pandas as pd"
   ]
  },
  {
   "cell_type": "code",
   "execution_count": 2,
   "id": "4035b3a3-2b0f-4252-824f-d068826e3d60",
   "metadata": {
    "tags": []
   },
   "outputs": [],
   "source": [
    "#creation of credential file\n",
    "cred_file = \"gspread-project-414310-468664902bb6.json\"\n"
   ]
  },
  {
   "cell_type": "code",
   "execution_count": 3,
   "id": "febbf7a7-a672-4cbd-afb3-940ff8c7fd38",
   "metadata": {
    "tags": []
   },
   "outputs": [
    {
     "data": {
      "text/plain": [
       "<gspread.client.Client at 0x7f834945c190>"
      ]
     },
     "execution_count": 3,
     "metadata": {},
     "output_type": "execute_result"
    }
   ],
   "source": [
    "gc = gspread.service_account(cred_file)\n",
    "gc"
   ]
  },
  {
   "cell_type": "code",
   "execution_count": 4,
   "id": "d09e6a1e-519c-47de-a8d2-891e06e593aa",
   "metadata": {
    "tags": []
   },
   "outputs": [
    {
     "data": {
      "text/plain": [
       "<Spreadsheet 'Data Base All Regions' id:1NOwTt3-FG2yfozOmTqZXkFJo8VDvHtEWp2gSJS_7u64>"
      ]
     },
     "execution_count": 4,
     "metadata": {},
     "output_type": "execute_result"
    }
   ],
   "source": [
    "#establish the connection\n",
    "db = gc.open_by_url('https://docs.google.com/spreadsheets/d/1NOwTt3-FG2yfozOmTqZXkFJo8VDvHtEWp2gSJS_7u64/edit#gid=1206298900')\n",
    "db"
   ]
  },
  {
   "cell_type": "code",
   "execution_count": 5,
   "id": "00a8f56a-2363-4ab8-a59e-8c44f17f6ddf",
   "metadata": {
    "tags": []
   },
   "outputs": [
    {
     "data": {
      "text/plain": [
       "<Worksheet 'Traitement_Doublons' id:1206298900>"
      ]
     },
     "execution_count": 5,
     "metadata": {},
     "output_type": "execute_result"
    }
   ],
   "source": [
    "wsh = db.worksheet('Traitement_Doublons')\n",
    "wsh"
   ]
  },
  {
   "cell_type": "code",
   "execution_count": 6,
   "id": "b6e43784-5d18-4604-902d-dd9e271b698f",
   "metadata": {
    "tags": []
   },
   "outputs": [
    {
     "data": {
      "text/plain": [
       "[<Worksheet \"Page d'importation des données\" id:0>,\n",
       " <Worksheet 'Traitement_Valeurs' id:1967894338>,\n",
       " <Worksheet 'Traitement_Valeurs2' id:673249068>,\n",
       " <Worksheet 'Traitement_Doublons' id:1206298900>,\n",
       " <Worksheet 'Database' id:891652844>,\n",
       " <Worksheet 'Données DHIS2' id:1836387286>,\n",
       " <Worksheet 'Listing_Sites' id:1197721327>]"
      ]
     },
     "execution_count": 6,
     "metadata": {},
     "output_type": "execute_result"
    }
   ],
   "source": [
    "wsh_lst= db.worksheets()\n",
    "wsh_lst"
   ]
  },
  {
   "cell_type": "code",
   "execution_count": 7,
   "id": "b31e2176-aa0a-4919-8a5c-1be8abfd5a65",
   "metadata": {
    "tags": []
   },
   "outputs": [],
   "source": [
    "db0=pd.DataFrame(wsh.get_all_records())"
   ]
  },
  {
   "cell_type": "code",
   "execution_count": 8,
   "id": "a3e7331d-e929-4f1e-832a-cab2ed281ba4",
   "metadata": {
    "tags": []
   },
   "outputs": [
    {
     "data": {
      "text/plain": [
       "(9683, 214)"
      ]
     },
     "execution_count": 8,
     "metadata": {},
     "output_type": "execute_result"
    }
   ],
   "source": [
    "db0.shape"
   ]
  },
  {
   "cell_type": "code",
   "execution_count": 9,
   "id": "34b233f5-cda6-48e0-af8d-7479232e9e97",
   "metadata": {
    "tags": []
   },
   "outputs": [
    {
     "data": {
      "text/plain": [
       "['N° Lignes',\n",
       " 'Sites',\n",
       " 'Région',\n",
       " 'District de Santé (LT)',\n",
       " 'Horodateur',\n",
       " 'Nom et Prénom',\n",
       " 'Fonction',\n",
       " 'Contact / Numéro de téléphone',\n",
       " 'FOSA PEPFAR',\n",
       " 'Type de commande',\n",
       " 'Date de préparation de la Commande',\n",
       " 'Nombre de mois de couverture de la Commande',\n",
       " 'File active la plus récente du site ( Patients sous TARV)',\n",
       " 'File Active : TDF/3TC/EFV_CoBLTabs_300/300/400 mg_Bte/30',\n",
       " 'Stock Disponible Utilisable : TDF/3TC/EFV_CoBLTabs_300/300/400 mg_Bte/30',\n",
       " 'CMM : TDF/3TC/EFV_CoBLTabs_300/300/400 mg_Bte/30',\n",
       " 'Quantitée Commandée  : TDF/3TC/EFV_CoBLTabs_300/300/400 mg_Bte/30',\n",
       " 'File Active : TDF/3TC/EFV_CoBLTabs_300/300/400 mg_Bte/90',\n",
       " 'Stock Disponible Utilisable : TDF/3TC/EFV_CoBLTabs_300/300/400 mg_Bte/90',\n",
       " 'CMM : TDF/3TC/EFV_CoBLTabs_300/300/400 mg_Bte/90',\n",
       " 'Quantitée Commandée  : TDF/3TC/EFV_CoBLTabs_300/300/400 mg_Bte/90',\n",
       " 'File Active : TDF/3TC/DTG_tabs_300/300/50_Bte/30',\n",
       " 'Stock Disponible Utilisable : TDF/3TC/DTG_tabs_300/300/50_Bte/30',\n",
       " 'CMM : TDF/3TC/DTG_tabs_300/300/50_Bte/30',\n",
       " 'Quantitée Commandée  : TDF/3TC/DTG_tabs_300/300/50_Bte/30',\n",
       " 'File Active : TDF/3TC/DTG_tabs_300/300/50_Bte/90',\n",
       " 'Stock Disponible Utilisable : TDF/3TC/DTG_tabs_300/300/50_Bte/90',\n",
       " 'CMM : TDF/3TC/DTG_tabs_300/300/50_Bte/90',\n",
       " 'Quantitée Commandée  : TDF/3TC/DTG_tabs_300/300/50_Bte/90',\n",
       " 'File Active : ABC+3TC_tabs_600/300 mg_Bte/30',\n",
       " 'Stock Disponible Utilisable : ABC+3TC_tabs_600/300 mg_Bte/30',\n",
       " 'CMM : ABC+3TC_tabs_600/300 mg_Bte/30',\n",
       " 'Quantitée Commandée  : ABC+3TC_tabs_600/300 mg_Bte/30',\n",
       " 'File Active : AZT/3TC_tabs_300/150 mg_Bte/60',\n",
       " 'Stock Disponible Utilisable : AZT/3TC_tabs_300/150 mg_Bte/60',\n",
       " 'CMM : AZT/3TC_tabs_300/150 mg_Bte/60',\n",
       " 'Quantitée Commandée  : AZT/3TC_tabs_300/150 mg_Bte/60',\n",
       " 'File Active : TDF/FTC_tabs_300/200_Bte/30',\n",
       " 'Stock Disponible Utilisable : TDF/FTC_tabs_300/200_Bte/30',\n",
       " 'CMM : TDF/FTC_tabs_300/200_Bte/30',\n",
       " 'Quantitée Commandée  : TDF/FTC_tabs_300/200_Bte/30',\n",
       " 'File Active : TDF/3TC_tabs_300/300 mg_Bte/30',\n",
       " 'Stock Disponible Utilisable : TDF/3TC_tabs_300/300 mg_Bte/30',\n",
       " 'CMM : TDF/3TC_tabs_300/300 mg_Bte/30',\n",
       " 'Quantitée Commandée  : TDF/3TC_tabs_300/300 mg_Bte/30',\n",
       " 'File Active : ATV/r_tabs_300/100 mg_Bte/30',\n",
       " 'Stock Disponible Utilisable : ATV/r_tabs_300/100 mg_Bte/30',\n",
       " 'CMM : ATV/r_tabs_300/100 mg_Bte/30',\n",
       " 'Quantitée Commandée  :ATV/r_tabs_300/100 mg_Bte/30',\n",
       " 'File Active : Ritonavir (RTV)_Cp_100 mg_Bte/30',\n",
       " 'Stock Disponible Utilisable : Ritonavir (RTV)_Cp_100 mg_Bte/30',\n",
       " 'CMM : Ritonavir (RTV)_Cp_100 mg_Bte/30',\n",
       " 'Quantitée Commandée  :Ritonavir (RTV)_Cp_100 mg_Bte/30',\n",
       " 'File Active : Darunavir (DRV)_Cp_600 mg_Bte/60',\n",
       " 'Stock Disponible Utilisable : Darunavir (DRV)_Cp_600 mg_Bte/60',\n",
       " 'CMM : Darunavir (DRV)_Cp_600 mg_Bte/60',\n",
       " 'Quantitée Commandée  :Darunavir (DRV)_Cp_600 mg_Bte/60',\n",
       " 'File Active : Dolutégravir (DTG)_Cp_50 mg_Bte/30',\n",
       " 'Stock Disponible Utilisable : Dolutégravir (DTG)_Cp_50 mg_Bte/30',\n",
       " 'CMM : Dolutégravir (DTG)_Cp_50 mg_Bte/30',\n",
       " 'Quantitée Commandée  : Dolutégravir (DTG)_Cp_50 mg_Bte/30',\n",
       " 'File Active : Dolutégravir (DTG)_Cp_10 mg_Bte/30',\n",
       " 'Stock Disponible Utilisable : Dolutégravir (DTG)_Cp_10 mg_Bte/30',\n",
       " 'CMM : Dolutégravir (DTG)_Cp_10 mg_Bte/30',\n",
       " 'Quantitée Commandée  : Dolutégravir (DTG)_Cp_10 mg_Bte/30',\n",
       " 'File Active : ABC+3TC_tabs_120/60 mg_Bte/30',\n",
       " 'Stock Disponible Utilisable : ABC+3TC_tabs_120/60 mg_Bte/30',\n",
       " 'CMM : ABC+3TC_tabs_120/60 mg_Bte/30',\n",
       " 'Quantitée Commandée  : ABC+3TC_tabs_120/60 mg_Bte/30',\n",
       " 'File Active : LVP/r_tabs_100/25 mg_Bte/60',\n",
       " 'Stock Disponible Utilisable : LVP/r_tabs_100/25 mg_Bte/60',\n",
       " 'CMM : LVP/r_tabs_100/25 mg_Bte/60',\n",
       " 'Quantitée Commandée  : LVP/r_tabs_100/25 mg_Bte/60',\n",
       " 'File Active : AZT/3TC_tabs_60/30 mg_Bte/60',\n",
       " 'Stock Disponible Utilisable : AZT/3TC_tabs_60/30 mg_Bte/60',\n",
       " 'CMM : AZT/3TC_tabs_60/30 mg_Bte/60',\n",
       " 'Quantitée Commandée : AZT/3TC_tabs_60/30 mg_Bte/60',\n",
       " 'File Active : LVP/r_pellets_40/10 mg_Bte/120',\n",
       " 'Stock Disponible Utilisable : LVP/r_pellets_40/10 mg_Bte/120',\n",
       " 'CMM : LVP/r_pellets_40/10 mg_Bte/120',\n",
       " 'Quantitée Commandée  : LVP/r_pellets_40/10 mg_Bte/120',\n",
       " 'File Active : Efavirenz (EFV)_tabs_200 mg_Bte/90',\n",
       " 'Stock Disponible Utilisable : Efavirenz (EFV)_tabs_200 mg_Bte/90',\n",
       " 'CMM : Efavirenz (EFV)_tabs_200 mg_Bte/90',\n",
       " 'Quantitée Commandée  : Efavirenz (EFV)_tabs_200 mg_Bte/90',\n",
       " 'File Active : Névirapine (NVP)_syrups_50 mg/ml_FI/100ml',\n",
       " 'Stock Disponible Utilisable : Névirapine (NVP)_syrups_50 mg/ml_FI/100ml',\n",
       " 'CMM : Névirapine (NVP)_syrups_50 mg/ml_FI/100ml',\n",
       " 'Quantitée Commandée  : Névirapine (NVP)_syrups_50 mg/ml_FI/100ml',\n",
       " 'File Active : Isoniazid (INH)_tabs_300mg (en comprimé)',\n",
       " 'Stock Disponible Utilisable : Isoniazid (INH)_tabs_300mg_ (en comprimé)',\n",
       " 'CMM : Isoniazid (INH)_tabs_300mg_ (en comprimé)',\n",
       " 'Quantitée Commandée  : Isoniazid (INH)_tabs_300mg_ (en comprimé)',\n",
       " 'File Active : Isoniazid (INH)_tabs_100mg_ (en comprimé)',\n",
       " 'Stock Disponible Utilisable : Isoniazid (INH)_tabs_100mg_ (en comprimé)',\n",
       " 'CMM : Isoniazid (INH)_tabs_100mg_ (en comprimé)',\n",
       " 'Quantitée Commandée  : Isoniazid (INH)_tabs_100mg_ (en comprimé)',\n",
       " 'Nombre de Patients testés avec Determine HIV-1/2 en moyenne /par mois ',\n",
       " 'Stock Disponible Utilisable : Determine HIV-1/2 (nombre de Tests)',\n",
       " 'CMM :Determine HIV-1/2 (nombre de Tests)',\n",
       " 'Quantitée Commandée  : Determine HIV-1/2 (nombre de Tests)',\n",
       " 'Nombre de Patients testés avec un test de confirmation (Oraquick / Shangai) en moyenne /par mois ',\n",
       " 'Stock Disponible Utilisable : Test de confirmation (Oraquick / Shangai) (en nombre de test)',\n",
       " 'CMM : Test de confirmation (Oraquick / Shangai) (en nombre de test)',\n",
       " 'Quantitée Commandée  : Test de confirmation (Oraquick / Shangai) (en nombre de test)',\n",
       " 'Stock Disponible Utilisable : Kit DBS _C/50',\n",
       " 'CMM : Kit DBS _C/50',\n",
       " 'Quantitée Commandée  : Kit DBS _C/50',\n",
       " 'Stock Disponible Utilisable : Préservatif  masculin B/144',\n",
       " 'CMM : Préservatif  masculin B/144',\n",
       " 'Quantitée Commandée  : Préservatif  masculin B/144',\n",
       " 'Stock Disponible Utilisable : Préservatif féminin B/3 ',\n",
       " 'CMM : Préservatif féminin B/3 ',\n",
       " 'Quantitée Commandée  : Préservatif féminin B/3 ',\n",
       " 'Stock Disponible Utilisable : Gants de soin B/100 ',\n",
       " 'CMM : Gants de soin  B/100',\n",
       " 'Quantitée Commandée  : Gants de soin  B/100',\n",
       " 'Stock Disponible Utilisable : Coton hydrophyle (COTOHY)_rouleau_R/500mg_Unite',\n",
       " 'CMM : Coton hydrophyle (COTOHY)_rouleau_R/500mg_Unite',\n",
       " 'Quantitée Commandée  : Coton hydrophyle (COTOHY)_rouleau_R/500mg_Unite',\n",
       " '𝐕𝐨𝐮𝐥𝐞𝐳-𝐯𝐨𝐮𝐬 𝐂𝐨𝐦𝐦𝐚𝐧𝐝𝐞𝐫 𝐮𝐧 𝐚𝐮𝐭𝐫𝐞 𝐩𝐫𝐨𝐝𝐮𝐢𝐭?',\n",
       " '𝐏𝐫𝐞𝐜𝐢𝐬𝐞𝐫 𝐀𝐮𝐭𝐫𝐞_𝐩𝐫𝐨𝐝𝐮𝐢𝐭 𝟏',\n",
       " 'Stock Disponible Utilisable : Autre_produit 1 à préciser',\n",
       " 'CMM : Autre_produit 1 à préciser',\n",
       " 'Quantitée Commandée  : Autre_produit 1 à préciser',\n",
       " '𝐏𝐫𝐞𝐜𝐢𝐬𝐞𝐫 𝐀𝐮𝐭𝐫𝐞_𝐩𝐫𝐨𝐝𝐮𝐢𝐭 𝟐',\n",
       " 'Stock Disponible Utilisable : Autre_produit 2 à préciser',\n",
       " 'CMM : Autre_produit 2 à préciser',\n",
       " 'Quantitée Commandée  : Autre_produit 2 à préciser',\n",
       " '𝐏𝐫𝐞𝐜𝐢𝐬𝐞𝐫 𝐀𝐮𝐭𝐫𝐞_𝐩𝐫𝐨𝐝𝐮𝐢𝐭 𝟑',\n",
       " 'Stock Disponible Utilisable : Autre_produit 3 à préciser',\n",
       " 'CMM : Autre_produit 3 à préciser',\n",
       " 'Quantitée Commandée  : Autre_produit 3 à préciser',\n",
       " '𝐏𝐫𝐞𝐜𝐢𝐬𝐞𝐫 𝐀𝐮𝐭𝐫𝐞_𝐩𝐫𝐨𝐝𝐮𝐢𝐭 𝟒',\n",
       " 'Stock Disponible Utilisable : Autre_produit 4 à préciser',\n",
       " 'CMM : Autre_produit 4 à préciser',\n",
       " 'Quantitée Commandée  : Autre_produit 4 à préciser',\n",
       " '𝐏𝐫𝐞𝐜𝐢𝐬𝐞𝐫 𝐀𝐮𝐭𝐫𝐞_𝐩𝐫𝐨𝐝𝐮𝐢𝐭 𝟓',\n",
       " 'Stock Disponible Utilisable : Autre_produit 5 à préciser',\n",
       " 'CMM : Autre_produit 5 à préciser',\n",
       " 'Quantitée Commandée  : Autre_produit 5 à préciser',\n",
       " '𝐏𝐫𝐞𝐜𝐢𝐬𝐞𝐫 𝐀𝐮𝐭𝐫𝐞_𝐩𝐫𝐨𝐝𝐮𝐢𝐭 𝟔',\n",
       " 'Stock Disponible Utilisable : Autre_produit 6 à préciser',\n",
       " 'CMM : Autre_produit 6 à préciser',\n",
       " 'Quantitée Commandée  : Autre_produit 6 à préciser',\n",
       " '𝐏𝐫𝐞𝐜𝐢𝐬𝐞𝐫 𝐀𝐮𝐭𝐫𝐞_𝐩𝐫𝐨𝐝𝐮𝐢𝐭 𝟕',\n",
       " 'Stock Disponible Utilisable : Autre_produit 7 à préciser',\n",
       " 'CMM : Autre_produit 7 à préciser',\n",
       " 'Quantitée Commandée  : Autre_produit 7 à préciser',\n",
       " '𝐏𝐫𝐞𝐜𝐢𝐬𝐞𝐫 𝐀𝐮𝐭𝐫𝐞_𝐩𝐫𝐨𝐝𝐮𝐢𝐭 𝟖',\n",
       " 'Stock Disponible Utilisable : Autre_produit 8 à préciser',\n",
       " 'CMM : Autre_produit 8 à préciser',\n",
       " 'Quantitée Commandée  : Autre_produit 8 à préciser',\n",
       " '𝐏𝐫𝐞𝐜𝐢𝐬𝐞𝐫 𝐀𝐮𝐭𝐫𝐞_𝐩𝐫𝐨𝐝𝐮𝐢𝐭 𝟗',\n",
       " 'Stock Disponible Utilisable : Autre_produit 9 préciser',\n",
       " 'CMM : Autre_produit 9 à préciser',\n",
       " 'Quantitée Commandée  : Autre_produit 9 à préciser',\n",
       " '𝐏𝐫𝐞𝐜𝐢𝐬𝐞𝐫 𝐀𝐮𝐭𝐫𝐞_𝐩𝐫𝐨𝐝𝐮𝐢𝐭 𝟏𝟎',\n",
       " 'Stock Disponible Utilisable : Autre_produit 10 à préciser',\n",
       " 'CMM : Autre_produit 10 à préciser',\n",
       " 'Quantitée Commandée  : Autre_produit 10 à préciser',\n",
       " '𝐏𝐫𝐞𝐜𝐢𝐬𝐞𝐫 𝐏𝐫𝐨𝐝𝐮𝐢𝐭 𝐔𝐫𝐠𝐞𝐧𝐭 𝟏',\n",
       " 'Appréciations, Remarques et Suggestions sur le bon de Commande éléctronique',\n",
       " 'File active : Produit Urgent 1',\n",
       " 'Stock Disponible Utilisable : Produit Urgent 1',\n",
       " 'CMM :  Produit Urgent 1',\n",
       " 'Quantitée Commandée  :  Produit Urgent 1',\n",
       " '𝐏𝐫𝐞𝐜𝐢𝐬𝐞𝐫 𝐏𝐫𝐨𝐝𝐮𝐢𝐭 𝐔𝐫𝐠𝐞𝐧𝐭 𝟐',\n",
       " 'File active : Produit Urgent 2',\n",
       " 'Stock Disponible Utilisable : Produit Urgent 2',\n",
       " 'CMM :  Produit Urgent 2',\n",
       " 'Quantitée Commandée  :  Produit Urgent 2',\n",
       " '𝐏𝐫𝐞𝐜𝐢𝐬𝐞𝐫 𝐏𝐫𝐨𝐝𝐮𝐢𝐭 𝐔𝐫𝐠𝐞𝐧𝐭 𝟑 ',\n",
       " 'File active : Produit Urgent 3',\n",
       " 'Stock Disponible Utilisable : Produit Urgent 3',\n",
       " 'CMM :  Produit Urgent 3',\n",
       " 'Quantitée Commandée  :  Produit Urgent 3',\n",
       " '𝐏𝐫𝐞𝐜𝐢𝐬𝐞𝐫 𝐏𝐫𝐨𝐝𝐮𝐢𝐭 𝐔𝐫𝐠𝐞𝐧𝐭 𝟒 ',\n",
       " 'File active : Produit Urgent 4',\n",
       " 'Stock Disponible Utilisable : Produit Urgent 4',\n",
       " 'CMM :  Produit Urgent 4',\n",
       " 'Quantitée Commandée  :  Produit Urgent 4',\n",
       " '𝐏𝐫𝐞𝐜𝐢𝐬𝐞𝐫 𝐏𝐫𝐨𝐝𝐮𝐢𝐭 𝐔𝐫𝐠𝐞𝐧𝐭 𝟓',\n",
       " 'Combien de patients avez-vous sur un protocole de deuxième ligne? ',\n",
       " 'Combien de patients avez-vous sur un protocole de troisième ligne? ',\n",
       " 'Avez-vous des produits qui se périment dans moins de 3 mois?',\n",
       " 'Si Oui, veuillez les lister ci-dessous',\n",
       " 'File active : Produit Urgent 5',\n",
       " 'Stock Disponible Utilisable  : Produit Urgent 5',\n",
       " 'CMM :  Produit Urgent 5',\n",
       " 'Quantitée Commandée  :  Produit Urgent 5',\n",
       " 'Êtes-vous satisfait de  ce bon de commande électronique?',\n",
       " 'Certifiez-vous que les informations que vous voulez soumettre sont conforment à votre bon de commande physique? ',\n",
       " 'Mois du cycle',\n",
       " 'Promptitude',\n",
       " 'Nombre de saisies',\n",
       " 'Nombre de doublon',\n",
       " 'Position du doublon',\n",
       " 'Nombre de sites attendus par Catégorie de site et par région',\n",
       " 'Nombre de sites attendus par région',\n",
       " 'Numérateur de la complétude Dans le Pays',\n",
       " 'Nombre de sites attendus Dans le Pays',\n",
       " 'MOS : TDF/3TC/DTG_tabs_300/300/50',\n",
       " 'MOS : TDF/3TC/EFV_CoBLTabs_300/300/400 mg',\n",
       " 'MOS : ATV/r_tabs_300/100 mg_Bte/30',\n",
       " 'MOS : ABC+3TC_tabs_120/60 mg_Bte/30',\n",
       " 'MOS : DTG 10 mg B/90',\n",
       " 'MOS : LVP/r_tabs_40/10 mg_Bte/120',\n",
       " 'MOS : Determine',\n",
       " 'MOS : Test de confirmation',\n",
       " ' Numérateur complétude par catégorie de site',\n",
       " 'Numérateur Complétude par Région',\n",
       " ' Numérateur promptitude par catégorie de site',\n",
       " 'Numérateur promptitude par Région']"
      ]
     },
     "execution_count": 9,
     "metadata": {},
     "output_type": "execute_result"
    }
   ],
   "source": [
    "db0.columns.tolist()"
   ]
  },
  {
   "cell_type": "code",
   "execution_count": 10,
   "id": "c1d8d24e-4898-4d49-b712-527ca82251a3",
   "metadata": {
    "tags": []
   },
   "outputs": [
    {
     "data": {
      "text/plain": [
       "0      2022-01-31\n",
       "1      2022-01-31\n",
       "2      2022-01-31\n",
       "3      2022-01-31\n",
       "4      2022-01-31\n",
       "          ...    \n",
       "9678   2023-12-07\n",
       "9679   2023-12-07\n",
       "9680   2023-12-07\n",
       "9681   2023-12-08\n",
       "9682   2023-12-08\n",
       "Name: Horodateur, Length: 9683, dtype: datetime64[ns]"
      ]
     },
     "execution_count": 10,
     "metadata": {},
     "output_type": "execute_result"
    }
   ],
   "source": [
    "db1=db0[['Région','Sites','Horodateur','Mois du cycle']]\n",
    "from datetime import datetime\n",
    "db1 = db1['Horodateur'].apply(lambda x: datetime.strptime(x, '%d/%m/%Y'))\n",
    "db1"
   ]
  },
  {
   "cell_type": "code",
   "execution_count": 11,
   "id": "be554c43-9aaa-4379-8581-7d9e3815f0b3",
   "metadata": {
    "tags": []
   },
   "outputs": [],
   "source": [
    "db2=db0[['Région','Sites','Mois du cycle']]\n",
    "db2\n",
    "db3=db2.assign(date_cde=db1)"
   ]
  },
  {
   "cell_type": "code",
   "execution_count": 12,
   "id": "c614e4ad-89fb-4f4e-85ce-f5a0499a0678",
   "metadata": {
    "tags": []
   },
   "outputs": [
    {
     "data": {
      "text/html": [
       "<div>\n",
       "<style scoped>\n",
       "    .dataframe tbody tr th:only-of-type {\n",
       "        vertical-align: middle;\n",
       "    }\n",
       "\n",
       "    .dataframe tbody tr th {\n",
       "        vertical-align: top;\n",
       "    }\n",
       "\n",
       "    .dataframe thead th {\n",
       "        text-align: right;\n",
       "    }\n",
       "</style>\n",
       "<table border=\"1\" class=\"dataframe\">\n",
       "  <thead>\n",
       "    <tr style=\"text-align: right;\">\n",
       "      <th></th>\n",
       "      <th>Région</th>\n",
       "      <th>Sites</th>\n",
       "      <th>Mois du cycle</th>\n",
       "      <th>date_cde</th>\n",
       "    </tr>\n",
       "  </thead>\n",
       "  <tbody>\n",
       "    <tr>\n",
       "      <th>0</th>\n",
       "      <td>Nord</td>\n",
       "      <td>Csi Souari</td>\n",
       "      <td>February 2022</td>\n",
       "      <td>2022-01-31</td>\n",
       "    </tr>\n",
       "    <tr>\n",
       "      <th>1</th>\n",
       "      <td>Nord</td>\n",
       "      <td>HD de Gaschiga</td>\n",
       "      <td>February 2022</td>\n",
       "      <td>2022-01-31</td>\n",
       "    </tr>\n",
       "    <tr>\n",
       "      <th>2</th>\n",
       "      <td>Littoral</td>\n",
       "      <td>Infirmerie prison centrale de New bell</td>\n",
       "      <td>February 2022</td>\n",
       "      <td>2022-01-31</td>\n",
       "    </tr>\n",
       "    <tr>\n",
       "      <th>3</th>\n",
       "      <td>Nord</td>\n",
       "      <td>HD Mayo Oulo</td>\n",
       "      <td>February 2022</td>\n",
       "      <td>2022-01-31</td>\n",
       "    </tr>\n",
       "    <tr>\n",
       "      <th>4</th>\n",
       "      <td>Nord</td>\n",
       "      <td>CSI Djipporde</td>\n",
       "      <td>February 2022</td>\n",
       "      <td>2022-01-31</td>\n",
       "    </tr>\n",
       "    <tr>\n",
       "      <th>...</th>\n",
       "      <td>...</td>\n",
       "      <td>...</td>\n",
       "      <td>...</td>\n",
       "      <td>...</td>\n",
       "    </tr>\n",
       "    <tr>\n",
       "      <th>9678</th>\n",
       "      <td>Sud-Ouest</td>\n",
       "      <td>Infirmerie Base Navale</td>\n",
       "      <td>December 2023</td>\n",
       "      <td>2023-12-07</td>\n",
       "    </tr>\n",
       "    <tr>\n",
       "      <th>9679</th>\n",
       "      <td>Sud</td>\n",
       "      <td>HR Ebolowa</td>\n",
       "      <td>December 2023</td>\n",
       "      <td>2023-12-07</td>\n",
       "    </tr>\n",
       "    <tr>\n",
       "      <th>9680</th>\n",
       "      <td>Centre</td>\n",
       "      <td>HD Saa</td>\n",
       "      <td>December 2023</td>\n",
       "      <td>2023-12-07</td>\n",
       "    </tr>\n",
       "    <tr>\n",
       "      <th>9681</th>\n",
       "      <td>Sud-Ouest</td>\n",
       "      <td>Centre Medical Militaire (BSA)</td>\n",
       "      <td>December 2023</td>\n",
       "      <td>2023-12-08</td>\n",
       "    </tr>\n",
       "    <tr>\n",
       "      <th>9682</th>\n",
       "      <td>Centre</td>\n",
       "      <td>Trauma Centre</td>\n",
       "      <td>December 2023</td>\n",
       "      <td>2023-12-08</td>\n",
       "    </tr>\n",
       "  </tbody>\n",
       "</table>\n",
       "<p>9683 rows × 4 columns</p>\n",
       "</div>"
      ],
      "text/plain": [
       "         Région                                   Sites     Mois du cycle  \\\n",
       "0          Nord                              Csi Souari    February 2022    \n",
       "1          Nord                          HD de Gaschiga    February 2022    \n",
       "2      Littoral  Infirmerie prison centrale de New bell    February 2022    \n",
       "3          Nord                            HD Mayo Oulo    February 2022    \n",
       "4          Nord                           CSI Djipporde    February 2022    \n",
       "...         ...                                     ...               ...   \n",
       "9678  Sud-Ouest                  Infirmerie Base Navale    December 2023    \n",
       "9679        Sud                              HR Ebolowa    December 2023    \n",
       "9680     Centre                                  HD Saa    December 2023    \n",
       "9681  Sud-Ouest          Centre Medical Militaire (BSA)    December 2023    \n",
       "9682     Centre                           Trauma Centre    December 2023    \n",
       "\n",
       "       date_cde  \n",
       "0    2022-01-31  \n",
       "1    2022-01-31  \n",
       "2    2022-01-31  \n",
       "3    2022-01-31  \n",
       "4    2022-01-31  \n",
       "...         ...  \n",
       "9678 2023-12-07  \n",
       "9679 2023-12-07  \n",
       "9680 2023-12-07  \n",
       "9681 2023-12-08  \n",
       "9682 2023-12-08  \n",
       "\n",
       "[9683 rows x 4 columns]"
      ]
     },
     "execution_count": 12,
     "metadata": {},
     "output_type": "execute_result"
    }
   ],
   "source": [
    "db3"
   ]
  },
  {
   "cell_type": "code",
   "execution_count": 13,
   "id": "b97c4fb5-9817-493a-a58a-8925aae52fdb",
   "metadata": {
    "tags": []
   },
   "outputs": [
    {
     "data": {
      "text/html": [
       "<div>\n",
       "<style scoped>\n",
       "    .dataframe tbody tr th:only-of-type {\n",
       "        vertical-align: middle;\n",
       "    }\n",
       "\n",
       "    .dataframe tbody tr th {\n",
       "        vertical-align: top;\n",
       "    }\n",
       "\n",
       "    .dataframe thead th {\n",
       "        text-align: right;\n",
       "    }\n",
       "</style>\n",
       "<table border=\"1\" class=\"dataframe\">\n",
       "  <thead>\n",
       "    <tr style=\"text-align: right;\">\n",
       "      <th></th>\n",
       "      <th>Région</th>\n",
       "      <th>Sites</th>\n",
       "      <th>Mois du cycle</th>\n",
       "      <th>date_cde</th>\n",
       "    </tr>\n",
       "  </thead>\n",
       "  <tbody>\n",
       "    <tr>\n",
       "      <th>4810</th>\n",
       "      <td>Centre</td>\n",
       "      <td>CMA Bondjock</td>\n",
       "      <td>January 2023</td>\n",
       "      <td>2023-01-01</td>\n",
       "    </tr>\n",
       "    <tr>\n",
       "      <th>4811</th>\n",
       "      <td>Nord-Ouest</td>\n",
       "      <td>Bafut District Hospital</td>\n",
       "      <td>January 2023</td>\n",
       "      <td>2023-01-01</td>\n",
       "    </tr>\n",
       "    <tr>\n",
       "      <th>4812</th>\n",
       "      <td>Nord-Ouest</td>\n",
       "      <td>Azire Integrated Health Centre</td>\n",
       "      <td>January 2023</td>\n",
       "      <td>2023-01-01</td>\n",
       "    </tr>\n",
       "    <tr>\n",
       "      <th>4813</th>\n",
       "      <td>Nord-Ouest</td>\n",
       "      <td>Mbingo Baptist Hospital</td>\n",
       "      <td>January 2023</td>\n",
       "      <td>2023-01-02</td>\n",
       "    </tr>\n",
       "    <tr>\n",
       "      <th>4814</th>\n",
       "      <td>Extrême-Nord</td>\n",
       "      <td>HD Kaele</td>\n",
       "      <td>January 2023</td>\n",
       "      <td>2023-01-02</td>\n",
       "    </tr>\n",
       "    <tr>\n",
       "      <th>...</th>\n",
       "      <td>...</td>\n",
       "      <td>...</td>\n",
       "      <td>...</td>\n",
       "      <td>...</td>\n",
       "    </tr>\n",
       "    <tr>\n",
       "      <th>9678</th>\n",
       "      <td>Sud-Ouest</td>\n",
       "      <td>Infirmerie Base Navale</td>\n",
       "      <td>December 2023</td>\n",
       "      <td>2023-12-07</td>\n",
       "    </tr>\n",
       "    <tr>\n",
       "      <th>9679</th>\n",
       "      <td>Sud</td>\n",
       "      <td>HR Ebolowa</td>\n",
       "      <td>December 2023</td>\n",
       "      <td>2023-12-07</td>\n",
       "    </tr>\n",
       "    <tr>\n",
       "      <th>9680</th>\n",
       "      <td>Centre</td>\n",
       "      <td>HD Saa</td>\n",
       "      <td>December 2023</td>\n",
       "      <td>2023-12-07</td>\n",
       "    </tr>\n",
       "    <tr>\n",
       "      <th>9681</th>\n",
       "      <td>Sud-Ouest</td>\n",
       "      <td>Centre Medical Militaire (BSA)</td>\n",
       "      <td>December 2023</td>\n",
       "      <td>2023-12-08</td>\n",
       "    </tr>\n",
       "    <tr>\n",
       "      <th>9682</th>\n",
       "      <td>Centre</td>\n",
       "      <td>Trauma Centre</td>\n",
       "      <td>December 2023</td>\n",
       "      <td>2023-12-08</td>\n",
       "    </tr>\n",
       "  </tbody>\n",
       "</table>\n",
       "<p>4873 rows × 4 columns</p>\n",
       "</div>"
      ],
      "text/plain": [
       "            Région                           Sites     Mois du cycle  \\\n",
       "4810        Centre                    CMA Bondjock     January 2023    \n",
       "4811    Nord-Ouest         Bafut District Hospital     January 2023    \n",
       "4812    Nord-Ouest  Azire Integrated Health Centre     January 2023    \n",
       "4813    Nord-Ouest         Mbingo Baptist Hospital     January 2023    \n",
       "4814  Extrême-Nord                        HD Kaele     January 2023    \n",
       "...            ...                             ...               ...   \n",
       "9678     Sud-Ouest          Infirmerie Base Navale    December 2023    \n",
       "9679           Sud                      HR Ebolowa    December 2023    \n",
       "9680        Centre                          HD Saa    December 2023    \n",
       "9681     Sud-Ouest  Centre Medical Militaire (BSA)    December 2023    \n",
       "9682        Centre                   Trauma Centre    December 2023    \n",
       "\n",
       "       date_cde  \n",
       "4810 2023-01-01  \n",
       "4811 2023-01-01  \n",
       "4812 2023-01-01  \n",
       "4813 2023-01-02  \n",
       "4814 2023-01-02  \n",
       "...         ...  \n",
       "9678 2023-12-07  \n",
       "9679 2023-12-07  \n",
       "9680 2023-12-07  \n",
       "9681 2023-12-08  \n",
       "9682 2023-12-08  \n",
       "\n",
       "[4873 rows x 4 columns]"
      ]
     },
     "execution_count": 13,
     "metadata": {},
     "output_type": "execute_result"
    }
   ],
   "source": [
    "db3= db3[(db3['date_cde']>='2023-01-01') & ( db3['date_cde']<'2024-01-01')]\n",
    "db3"
   ]
  },
  {
   "cell_type": "code",
   "execution_count": 14,
   "id": "48487761-06e0-4150-8e58-fabefd392b0e",
   "metadata": {
    "tags": []
   },
   "outputs": [
    {
     "data": {
      "text/plain": [
       "pandas.core.frame.DataFrame"
      ]
     },
     "execution_count": 14,
     "metadata": {},
     "output_type": "execute_result"
    }
   ],
   "source": [
    "type(db3)"
   ]
  },
  {
   "cell_type": "code",
   "execution_count": 15,
   "id": "dd159c63-e788-486a-a84e-b1df451fec6d",
   "metadata": {
    "tags": []
   },
   "outputs": [
    {
     "data": {
      "text/html": [
       "<div>\n",
       "<style scoped>\n",
       "    .dataframe tbody tr th:only-of-type {\n",
       "        vertical-align: middle;\n",
       "    }\n",
       "\n",
       "    .dataframe tbody tr th {\n",
       "        vertical-align: top;\n",
       "    }\n",
       "\n",
       "    .dataframe thead th {\n",
       "        text-align: right;\n",
       "    }\n",
       "</style>\n",
       "<table border=\"1\" class=\"dataframe\">\n",
       "  <thead>\n",
       "    <tr style=\"text-align: right;\">\n",
       "      <th></th>\n",
       "      <th>Région</th>\n",
       "      <th>Sites</th>\n",
       "      <th>Mois du cycle</th>\n",
       "    </tr>\n",
       "  </thead>\n",
       "  <tbody>\n",
       "    <tr>\n",
       "      <th>4810</th>\n",
       "      <td>Centre</td>\n",
       "      <td>CMA Bondjock</td>\n",
       "      <td>January 2023</td>\n",
       "    </tr>\n",
       "    <tr>\n",
       "      <th>4811</th>\n",
       "      <td>Nord-Ouest</td>\n",
       "      <td>Bafut District Hospital</td>\n",
       "      <td>January 2023</td>\n",
       "    </tr>\n",
       "    <tr>\n",
       "      <th>4812</th>\n",
       "      <td>Nord-Ouest</td>\n",
       "      <td>Azire Integrated Health Centre</td>\n",
       "      <td>January 2023</td>\n",
       "    </tr>\n",
       "    <tr>\n",
       "      <th>4813</th>\n",
       "      <td>Nord-Ouest</td>\n",
       "      <td>Mbingo Baptist Hospital</td>\n",
       "      <td>January 2023</td>\n",
       "    </tr>\n",
       "    <tr>\n",
       "      <th>4814</th>\n",
       "      <td>Extrême-Nord</td>\n",
       "      <td>HD Kaele</td>\n",
       "      <td>January 2023</td>\n",
       "    </tr>\n",
       "    <tr>\n",
       "      <th>...</th>\n",
       "      <td>...</td>\n",
       "      <td>...</td>\n",
       "      <td>...</td>\n",
       "    </tr>\n",
       "    <tr>\n",
       "      <th>9678</th>\n",
       "      <td>Sud-Ouest</td>\n",
       "      <td>Infirmerie Base Navale</td>\n",
       "      <td>December 2023</td>\n",
       "    </tr>\n",
       "    <tr>\n",
       "      <th>9679</th>\n",
       "      <td>Sud</td>\n",
       "      <td>HR Ebolowa</td>\n",
       "      <td>December 2023</td>\n",
       "    </tr>\n",
       "    <tr>\n",
       "      <th>9680</th>\n",
       "      <td>Centre</td>\n",
       "      <td>HD Saa</td>\n",
       "      <td>December 2023</td>\n",
       "    </tr>\n",
       "    <tr>\n",
       "      <th>9681</th>\n",
       "      <td>Sud-Ouest</td>\n",
       "      <td>Centre Medical Militaire (BSA)</td>\n",
       "      <td>December 2023</td>\n",
       "    </tr>\n",
       "    <tr>\n",
       "      <th>9682</th>\n",
       "      <td>Centre</td>\n",
       "      <td>Trauma Centre</td>\n",
       "      <td>December 2023</td>\n",
       "    </tr>\n",
       "  </tbody>\n",
       "</table>\n",
       "<p>4873 rows × 3 columns</p>\n",
       "</div>"
      ],
      "text/plain": [
       "            Région                           Sites     Mois du cycle\n",
       "4810        Centre                    CMA Bondjock     January 2023 \n",
       "4811    Nord-Ouest         Bafut District Hospital     January 2023 \n",
       "4812    Nord-Ouest  Azire Integrated Health Centre     January 2023 \n",
       "4813    Nord-Ouest         Mbingo Baptist Hospital     January 2023 \n",
       "4814  Extrême-Nord                        HD Kaele     January 2023 \n",
       "...            ...                             ...               ...\n",
       "9678     Sud-Ouest          Infirmerie Base Navale    December 2023 \n",
       "9679           Sud                      HR Ebolowa    December 2023 \n",
       "9680        Centre                          HD Saa    December 2023 \n",
       "9681     Sud-Ouest  Centre Medical Militaire (BSA)    December 2023 \n",
       "9682        Centre                   Trauma Centre    December 2023 \n",
       "\n",
       "[4873 rows x 3 columns]"
      ]
     },
     "execution_count": 15,
     "metadata": {},
     "output_type": "execute_result"
    }
   ],
   "source": [
    "db3=db3[['Région','Sites','Mois du cycle']]\n",
    "db3"
   ]
  },
  {
   "cell_type": "code",
   "execution_count": 16,
   "id": "402c154a-53e4-4ada-bafe-5b9a5c6b932c",
   "metadata": {
    "tags": []
   },
   "outputs": [
    {
     "data": {
      "text/html": [
       "<div>\n",
       "<style scoped>\n",
       "    .dataframe tbody tr th:only-of-type {\n",
       "        vertical-align: middle;\n",
       "    }\n",
       "\n",
       "    .dataframe tbody tr th {\n",
       "        vertical-align: top;\n",
       "    }\n",
       "\n",
       "    .dataframe thead th {\n",
       "        text-align: right;\n",
       "    }\n",
       "</style>\n",
       "<table border=\"1\" class=\"dataframe\">\n",
       "  <thead>\n",
       "    <tr style=\"text-align: right;\">\n",
       "      <th></th>\n",
       "      <th></th>\n",
       "      <th>Sites</th>\n",
       "    </tr>\n",
       "    <tr>\n",
       "      <th>Région</th>\n",
       "      <th>Mois du cycle</th>\n",
       "      <th></th>\n",
       "    </tr>\n",
       "  </thead>\n",
       "  <tbody>\n",
       "    <tr>\n",
       "      <th rowspan=\"5\" valign=\"top\">Adamaoua</th>\n",
       "      <th>April 2023</th>\n",
       "      <td>30</td>\n",
       "    </tr>\n",
       "    <tr>\n",
       "      <th>August 2023</th>\n",
       "      <td>18</td>\n",
       "    </tr>\n",
       "    <tr>\n",
       "      <th>December 2023</th>\n",
       "      <td>22</td>\n",
       "    </tr>\n",
       "    <tr>\n",
       "      <th>February 2023</th>\n",
       "      <td>22</td>\n",
       "    </tr>\n",
       "    <tr>\n",
       "      <th>January 2023</th>\n",
       "      <td>29</td>\n",
       "    </tr>\n",
       "    <tr>\n",
       "      <th>...</th>\n",
       "      <th>...</th>\n",
       "      <td>...</td>\n",
       "    </tr>\n",
       "    <tr>\n",
       "      <th rowspan=\"5\" valign=\"top\">Sud-Ouest</th>\n",
       "      <th>March 2023</th>\n",
       "      <td>28</td>\n",
       "    </tr>\n",
       "    <tr>\n",
       "      <th>May 2023</th>\n",
       "      <td>31</td>\n",
       "    </tr>\n",
       "    <tr>\n",
       "      <th>November 2023</th>\n",
       "      <td>27</td>\n",
       "    </tr>\n",
       "    <tr>\n",
       "      <th>October 2023</th>\n",
       "      <td>19</td>\n",
       "    </tr>\n",
       "    <tr>\n",
       "      <th>September 2023</th>\n",
       "      <td>28</td>\n",
       "    </tr>\n",
       "  </tbody>\n",
       "</table>\n",
       "<p>118 rows × 1 columns</p>\n",
       "</div>"
      ],
      "text/plain": [
       "                             Sites\n",
       "Région    Mois du cycle           \n",
       "Adamaoua    April 2023          30\n",
       "            August 2023         18\n",
       "            December 2023       22\n",
       "            February 2023       22\n",
       "            January 2023        29\n",
       "...                            ...\n",
       "Sud-Ouest   March 2023          28\n",
       "            May 2023            31\n",
       "            November 2023       27\n",
       "            October 2023        19\n",
       "            September 2023      28\n",
       "\n",
       "[118 rows x 1 columns]"
      ]
     },
     "execution_count": 16,
     "metadata": {},
     "output_type": "execute_result"
    }
   ],
   "source": [
    "db4=db3.groupby(['Région','Mois du cycle']).count()\n",
    "db4"
   ]
  },
  {
   "cell_type": "code",
   "execution_count": 18,
   "id": "d0524c8f-e5d3-4932-a211-0c253d93c00c",
   "metadata": {
    "tags": []
   },
   "outputs": [],
   "source": [
    "db4.to_csv(\"cde_en_ligne_2023.csv\")"
   ]
  },
  {
   "cell_type": "code",
   "execution_count": null,
   "id": "bbc8fc68-822e-4163-8ccf-09ae9c70819a",
   "metadata": {},
   "outputs": [],
   "source": []
  }
 ],
 "metadata": {
  "kernelspec": {
   "display_name": "Python 3 (ipykernel)",
   "language": "python",
   "name": "python3"
  },
  "language_info": {
   "codemirror_mode": {
    "name": "ipython",
    "version": 3
   },
   "file_extension": ".py",
   "mimetype": "text/x-python",
   "name": "python",
   "nbconvert_exporter": "python",
   "pygments_lexer": "ipython3",
   "version": "3.11.5"
  }
 },
 "nbformat": 4,
 "nbformat_minor": 5
}
